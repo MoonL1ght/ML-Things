{
 "cells": [
  {
   "cell_type": "code",
   "execution_count": 24,
   "metadata": {},
   "outputs": [],
   "source": [
    "import numpy as np\n",
    "from __future__ import print_function\n",
    "import torch\n",
    "import torch.nn as nn\n",
    "import torch.nn.functional as F"
   ]
  },
  {
   "cell_type": "code",
   "execution_count": 21,
   "metadata": {},
   "outputs": [
    {
     "name": "stdout",
     "output_type": "stream",
     "text": [
      "tensor([[0.0000, 0.0000, 0.0000],\n",
      "        [0.0000, 0.0000, 0.0000],\n",
      "        [0.0000, 0.0000, 0.0000],\n",
      "        [0.0000, 0.0000, 0.0000],\n",
      "        [0.0000, 0.4602, 0.0000]])\n",
      "tensor([[0.2914, 0.2938, 0.0202],\n",
      "        [0.3950, 0.0320, 0.2296],\n",
      "        [0.6824, 0.5426, 0.8713],\n",
      "        [0.4143, 0.7721, 0.8926],\n",
      "        [0.7755, 0.6123, 0.5219]])\n",
      "tensor([[0, 0, 0],\n",
      "        [0, 0, 0],\n",
      "        [0, 0, 0],\n",
      "        [0, 0, 0],\n",
      "        [0, 0, 0]])\n",
      "tensor([5.5000, 3.0000])\n",
      "tensor([[1., 1., 1.],\n",
      "        [1., 1., 1.]], dtype=torch.float64)\n",
      "tensor([[-0.8532, -0.4986, -0.1433],\n",
      "        [-0.0861,  0.0510,  0.6298]])\n",
      "torch.Size([2, 3])\n",
      "tensor([[-0.7724,  0.1579, -0.0824],\n",
      "        [ 0.7262,  0.7587,  1.4280]])\n",
      "tensor([[-0.7724,  0.1579, -0.0824],\n",
      "        [ 0.7262,  0.7587,  1.4280]])\n",
      "\n",
      "tensor([[-13370010.0000,         0.0000,         0.0000],\n",
      "        [        0.0000,         0.0000,         0.0000]])\n",
      "tensor([[-0.7724,  0.1579, -0.0824],\n",
      "        [ 0.7262,  0.7587,  1.4280]])\n",
      "tensor([-0.4986,  0.0510])\n"
     ]
    }
   ],
   "source": [
    "x = torch.empty(5, 3)\n",
    "print(x)\n",
    "x = torch.rand(5, 3)\n",
    "print(x)\n",
    "x = torch.zeros(5, 3, dtype=torch.long)\n",
    "print(x)\n",
    "x = torch.tensor([5.5, 3])\n",
    "print(x)\n",
    "x = x.new_ones(2, 3, dtype=torch.double)      # new_* methods take in sizes\n",
    "print(x)\n",
    "x = torch.randn_like(x, dtype=torch.float)    # override dtype!\n",
    "print(x)\n",
    "print(x.size())\n",
    "y = torch.rand(2, 3)\n",
    "print(x + y)\n",
    "print(torch.add(x, y))\n",
    "result = torch.empty(2, 3)\n",
    "print('')\n",
    "print(result)\n",
    "torch.add(x, y, out=result)\n",
    "print(result)\n",
    "print(x[:, 1])"
   ]
  },
  {
   "cell_type": "code",
   "execution_count": 22,
   "metadata": {},
   "outputs": [
    {
     "name": "stdout",
     "output_type": "stream",
     "text": [
      "torch.Size([4, 4]) torch.Size([16]) torch.Size([2, 8])\n"
     ]
    }
   ],
   "source": [
    "x = torch.randn(4, 4)\n",
    "y = x.view(16)\n",
    "z = x.view(-1, 8)  # the size -1 is inferred from other dimensions\n",
    "print(x.size(), y.size(), z.size())"
   ]
  },
  {
   "cell_type": "code",
   "execution_count": 56,
   "metadata": {},
   "outputs": [
    {
     "name": "stdout",
     "output_type": "stream",
     "text": [
      "tensor([[[ 1.,  2.,  3.,  4.],\n",
      "         [ 4.,  5.,  6.,  7.],\n",
      "         [ 7.,  8.,  9., 10.],\n",
      "         [ 6.,  3.,  7.,  1.]],\n",
      "\n",
      "        [[ 1.,  2.,  3.,  4.],\n",
      "         [ 4.,  5.,  6.,  7.],\n",
      "         [ 7.,  8.,  9., 10.],\n",
      "         [ 6.,  3.,  7.,  1.]]])\n",
      "tensor([[[[ 1.,  2.,  3.,  4.],\n",
      "          [ 4.,  5.,  6.,  7.],\n",
      "          [ 7.,  8.,  9., 10.],\n",
      "          [ 6.,  3.,  7.,  1.]],\n",
      "\n",
      "         [[ 1.,  2.,  3.,  4.],\n",
      "          [ 4.,  5.,  6.,  7.],\n",
      "          [ 7.,  8.,  9., 10.],\n",
      "          [ 6.,  3.,  7.,  1.]]]])\n",
      "------------\n",
      "torch.Size([3, 2, 2, 2])\n",
      "[Parameter containing:\n",
      "tensor([[[[ 0.2613,  0.2349],\n",
      "          [ 0.1702, -0.1244]],\n",
      "\n",
      "         [[-0.0902,  0.0163],\n",
      "          [-0.1869,  0.3002]]],\n",
      "\n",
      "\n",
      "        [[[-0.3406,  0.1360],\n",
      "          [ 0.2382,  0.1007]],\n",
      "\n",
      "         [[ 0.3008,  0.2864],\n",
      "          [-0.0576,  0.3363]]],\n",
      "\n",
      "\n",
      "        [[[ 0.1201,  0.2932],\n",
      "          [ 0.0023, -0.1204]],\n",
      "\n",
      "         [[-0.2740,  0.0210],\n",
      "          [ 0.2490,  0.1346]]]], requires_grad=True), Parameter containing:\n",
      "tensor([ 0.1655, -0.1763,  0.1267], requires_grad=True)]\n",
      "Conv2d(2, 3, kernel_size=(2, 2), stride=(1, 1))\n",
      "Result\n",
      "torch.Size([1, 3, 3, 3])\n",
      "tensor([[[[1.6511, 2.2325, 2.8139],\n",
      "          [3.3953, 3.9767, 4.5581],\n",
      "          [3.8001, 4.9755, 4.2765]],\n",
      "\n",
      "         [[3.5364, 4.5367, 5.5369],\n",
      "          [6.5371, 7.5374, 8.5376],\n",
      "          [5.3191, 6.9079, 5.3909]],\n",
      "\n",
      "         [[1.6772, 2.1030, 2.5288],\n",
      "          [2.9547, 3.3805, 3.8063],\n",
      "          [3.1135, 2.5768, 3.6571]]]], grad_fn=<ThnnConv2DBackward>)\n"
     ]
    }
   ],
   "source": [
    "img = torch.tensor([[[1, 2, 3, 4], [4, 5, 6, 7], [7, 8, 9, 10], [6, 3, 7, 1]],\n",
    "                    [[1, 2, 3, 4], [4, 5, 6, 7], [7, 8, 9, 10], [6, 3, 7, 1]]], dtype=torch.float)\n",
    "# img = torch.randn(1, 1, 4, 4)\n",
    "print(img)\n",
    "img = img.view(1, 2, 4, 4)\n",
    "print(img)\n",
    "print('------------')\n",
    "c = nn.Conv2d(2, 3, 2)\n",
    "params = list(c.parameters())\n",
    "print(params[0].size())\n",
    "print(params)\n",
    "print(c)\n",
    "res = c(img)\n",
    "print('Result')\n",
    "print(res.size())\n",
    "print(res)"
   ]
  },
  {
   "cell_type": "code",
   "execution_count": 58,
   "metadata": {},
   "outputs": [
    {
     "data": {
      "text/plain": [
       "1.6512"
      ]
     },
     "execution_count": 58,
     "metadata": {},
     "output_type": "execute_result"
    }
   ],
   "source": [
    "0.2613*1 + 0.2349*2 + 0.1702*4 - 0.1244*5 - 0.0902*1 + 0.0163*2 + -0.1869*4 + 0.3002*5 + 0.1655"
   ]
  },
  {
   "cell_type": "code",
   "execution_count": 59,
   "metadata": {},
   "outputs": [
    {
     "data": {
      "text/plain": [
       "2.2326"
      ]
     },
     "execution_count": 59,
     "metadata": {},
     "output_type": "execute_result"
    }
   ],
   "source": [
    "0.2613*2 + 0.2349*3 + 0.1702*5 - 0.1244*6 - 0.0902*2 + 0.0163*3 + -0.1869*5 + 0.3002*6 + 0.1655"
   ]
  },
  {
   "cell_type": "code",
   "execution_count": null,
   "metadata": {},
   "outputs": [],
   "source": []
  }
 ],
 "metadata": {
  "kernelspec": {
   "display_name": "Python 3",
   "language": "python",
   "name": "python3"
  },
  "language_info": {
   "codemirror_mode": {
    "name": "ipython",
    "version": 3
   },
   "file_extension": ".py",
   "mimetype": "text/x-python",
   "name": "python",
   "nbconvert_exporter": "python",
   "pygments_lexer": "ipython3",
   "version": "3.6.5"
  }
 },
 "nbformat": 4,
 "nbformat_minor": 2
}
