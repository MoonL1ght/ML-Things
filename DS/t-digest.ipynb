{
 "cells": [
  {
   "cell_type": "code",
   "execution_count": 1,
   "metadata": {},
   "outputs": [],
   "source": [
    "import numpy as np\n",
    "from scipy import stats\n",
    "import matplotlib.pyplot as plt\n",
    "from statsmodels.distributions.empirical_distribution import ECDF\n",
    "from scipy.stats import power_divergence\n",
    "\n",
    "%matplotlib inline"
   ]
  },
  {
   "cell_type": "code",
   "execution_count": 14,
   "metadata": {},
   "outputs": [],
   "source": [
    "class TDigest():\n",
    "    \n",
    "    def __init__(self, k, method):\n",
    "        self.k = k\n",
    "        self.klasts = []\n",
    "        \n",
    "        self.kminus_one_cdf = None\n",
    "        self.kth_cdf = None\n",
    "        \n",
    "        self.kminus_one_counts = None\n",
    "        self.kth_counts = None\n",
    "        \n",
    "        self.method = method\n",
    "        self.statistics = None\n",
    "        self.p_value = None\n",
    "        \n",
    "    def add(self, x):\n",
    "        self.klasts.append(x)\n",
    "        if len(self.klasts) > self.k:\n",
    "            self.klasts.pop(0)\n",
    "            \n",
    "        self._comp_kminus_one_cdf()\n",
    "        self._comp_k_cdf()\n",
    "        \n",
    "    def get_stats(self):\n",
    "        self._comp_statistics()\n",
    "        return self.statistics, self.p_value\n",
    "            \n",
    "    def _comp_kminus_one_cdf(self):\n",
    "        if len(self.klasts) >= self.k:\n",
    "            kminus_one = self.klasts[:-1]\n",
    "            kminus_one_heap = np.array(kminus_one).flatten()\n",
    "            \n",
    "            ecdf = ECDF(kminus_one_heap)\n",
    "            self.kminus_one_cdf = ecdf(np.linspace(-3.0, 3.0, 100))\n",
    "            \n",
    "            counts, edges = np.histogram(kminus_one_heap, bins=20, range=(-2.0, 2.0), density=False)\n",
    "            self.kminus_one_counts = counts\n",
    "        \n",
    "    def _comp_k_cdf(self):\n",
    "        if len(self.klasts) >= self.k:\n",
    "            kth = self.klasts[-1]\n",
    "            \n",
    "            ecdf = ECDF(kth)\n",
    "            self.kth_cdf = ecdf(np.linspace(-3.0, 3.0, 100))\n",
    "            \n",
    "            counts, edges = np.histogram(kth, bins=20, range=(-2.0, 2.0), density=False)\n",
    "            self.kth_counts = counts\n",
    "            \n",
    "    def _comp_statistics(self):\n",
    "        if self.method == 'ks':\n",
    "            self.statistics, self.p_value = stats.ks_2samp(self.kminus_one_cdf, self.kth_cdf)\n",
    "        elif self.method == 'gtest':\n",
    "            self.statistics, self.p_value = power_divergence(self.kth_cdf, self.kminus_one_cdf, lambda_='log-likelihood')\n",
    "        else:\n",
    "            raise Exception('Unknown method. Please provide KS or GTEST.')\n",
    "\n",
    "\n",
    "def simulation(nobs_step, nobs_total, method, k):\n",
    "    nobs_current = 0\n",
    "    step = 0\n",
    "    tdigest = TDigest(k=k, method=method)\n",
    "    statistics = []\n",
    "    p_values = []\n",
    "    xc = []\n",
    "    while nobs_current <= nobs_total:\n",
    "        # make a step\n",
    "        step += 1\n",
    "        trigger = np.random.random()\n",
    "        if trigger > 0.9:\n",
    "            #print('SHOULD BE AN ANOMALY!')\n",
    "            xc.append(step)\n",
    "        step_values = np.random.normal((lambda x: 1 if x < 0.9 else 5)(trigger), 5, nobs_step)\n",
    "        tdigest.add(step_values)\n",
    "        nobs_current += nobs_step\n",
    "\n",
    "        if step >= k:\n",
    "            stat, p_value = tdigest.get_stats()\n",
    "            statistics.append(stat)\n",
    "            p_values.append(p_value)\n",
    "            #print('STEP: {step}\\nSTATISTICS: {stat}\\nP-VALUE: {p_value}\\n---'.format(**{'step':step, 'stat':stat, 'p_value':p_value}))\n",
    "        else:\n",
    "            pass\n",
    "            #print('STEP: {step}\\nCOLLECTING DATA...\\n---'.format(**{'step':step}))\n",
    "    for x in xc:\n",
    "        plt.axvline(x)\n",
    "    print(step)\n",
    "    print(len(statistics)+10)\n",
    "    plt.plot(range(k, len(statistics)+10), statistics, 'ro')\n",
    "    print('TOTAL NUMBER of ANOMALIES: ', len(xc))\n",
    "    plt.show()    "
   ]
  },
  {
   "cell_type": "code",
   "execution_count": 15,
   "metadata": {
    "scrolled": false
   },
   "outputs": [
    {
     "name": "stdout",
     "output_type": "stream",
     "text": [
      "76\n",
      "77\n",
      "TOTAL NUMBER of ANOMALIES:  8\n"
     ]
    },
    {
     "data": {
      "image/png": "[encoded data removed]",
      "text/plain": [
       "<matplotlib.figure.Figure at 0x1a22dcfa20>"
      ]
     },
     "metadata": {},
     "output_type": "display_data"
    }
   ],
   "source": [
    "np.random.seed(1)\n",
    "simulation(nobs_step=200, nobs_total=15000, method='ks', k=10)"
   ]
  },
  {
   "cell_type": "code",
   "execution_count": null,
   "metadata": {
    "collapsed": true
   },
   "outputs": [],
   "source": []
  }
 ],
 "metadata": {
  "kernelspec": {
   "display_name": "Python 3",
   "language": "python",
   "name": "python3"
  },
  "language_info": {
   "codemirror_mode": {
    "name": "ipython",
    "version": 3
   },
   "file_extension": ".py",
   "mimetype": "text/x-python",
   "name": "python",
   "nbconvert_exporter": "python",
   "pygments_lexer": "ipython3",
   "version": "3.6.4"
  },
  "latex_envs": {
   "LaTeX_envs_menu_present": true,
   "autoclose": false,
   "autocomplete": true,
   "bibliofile": "biblio.bib",
   "cite_by": "apalike",
   "current_citInitial": 1,
   "eqLabelWithNumbers": true,
   "eqNumInitial": 1,
   "hotkeys": {
    "equation": "Ctrl-E",
    "itemize": "Ctrl-I"
   },
   "labels_anchors": false,
   "latex_user_defs": false,
   "report_style_numbering": false,
   "user_envs_cfg": false
  }
 },
 "nbformat": 4,
 "nbformat_minor": 2
}
