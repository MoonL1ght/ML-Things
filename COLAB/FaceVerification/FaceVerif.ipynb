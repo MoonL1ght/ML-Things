{
  "nbformat": 4,
  "nbformat_minor": 0,
  "metadata": {
    "colab": {
      "name": "FaceVerif.ipynb",
      "version": "0.3.2",
      "provenance": [],
      "include_colab_link": true
    },
    "kernelspec": {
      "name": "python3",
      "display_name": "Python 3"
    },
    "accelerator": "GPU"
  },
  "cells": [
    {
      "cell_type": "markdown",
      "metadata": {
        "id": "view-in-github",
        "colab_type": "text"
      },
      "source": [
        "<a href=\"https://colab.research.google.com/github/MoonL1ght/ML-Things/blob/master/COLAB/FaceVerification/FaceVerif.ipynb\" target=\"_parent\"><img src=\"https://colab.research.google.com/assets/colab-badge.svg\" alt=\"Open In Colab\"/></a>"
      ]
    },
    {
      "metadata": {
        "id": "iVv5IS7PJ8f8",
        "colab_type": "text"
      },
      "cell_type": "markdown",
      "source": [
        "# Colab Info"
      ]
    },
    {
      "metadata": {
        "id": "S_Y1mVzQmSkR",
        "colab_type": "code",
        "outputId": "58afd9d8-16bb-4b76-f5d0-2f5e689b9f57",
        "colab": {
          "base_uri": "https://localhost:8080/",
          "height": 298
        }
      },
      "cell_type": "code",
      "source": [
        "!pip3 install http://download.pytorch.org/whl/cu92/torch-0.4.1-cp36-cp36m-linux_x86_64.whl\n",
        "!pip3 install torchvision"
      ],
      "execution_count": 0,
      "outputs": [
        {
          "output_type": "stream",
          "text": [
            "Collecting torch==0.4.1 from http://download.pytorch.org/whl/cu92/torch-0.4.1-cp36-cp36m-linux_x86_64.whl\n",
            "\u001b[?25l  Downloading http://download.pytorch.org/whl/cu92/torch-0.4.1-cp36-cp36m-linux_x86_64.whl (512.6MB)\n",
            "\u001b[K    100% |████████████████████████████████| 512.6MB 92.6MB/s \n",
            "\u001b[31mfastai 1.0.49 has requirement numpy>=1.15, but you'll have numpy 1.14.6 which is incompatible.\u001b[0m\n",
            "\u001b[31mfastai 1.0.49 has requirement torch>=1.0.0, but you'll have torch 0.4.1 which is incompatible.\u001b[0m\n",
            "\u001b[?25hInstalling collected packages: torch\n",
            "  Found existing installation: torch 1.0.1.post2\n",
            "    Uninstalling torch-1.0.1.post2:\n",
            "      Successfully uninstalled torch-1.0.1.post2\n",
            "Successfully installed torch-0.4.1\n",
            "Requirement already satisfied: torchvision in /usr/local/lib/python3.6/dist-packages (0.2.2.post3)\n",
            "Requirement already satisfied: numpy in /usr/local/lib/python3.6/dist-packages (from torchvision) (1.14.6)\n",
            "Requirement already satisfied: torch in /usr/local/lib/python3.6/dist-packages (from torchvision) (0.4.1)\n",
            "Requirement already satisfied: six in /usr/local/lib/python3.6/dist-packages (from torchvision) (1.11.0)\n",
            "Requirement already satisfied: pillow>=4.1.1 in /usr/local/lib/python3.6/dist-packages (from torchvision) (4.1.1)\n",
            "Requirement already satisfied: olefile in /usr/local/lib/python3.6/dist-packages (from pillow>=4.1.1->torchvision) (0.46)\n"
          ],
          "name": "stdout"
        }
      ]
    },
    {
      "metadata": {
        "id": "O85sEoU2nLgq",
        "colab_type": "code",
        "outputId": "fc1f1767-88a5-48a4-fa63-c46cc63e4a77",
        "colab": {
          "base_uri": "https://localhost:8080/",
          "height": 105
        }
      },
      "cell_type": "code",
      "source": [
        "\n",
        "# memory footprint support libraries/code\n",
        "!ln -sf /opt/bin/nvidia-smi /usr/bin/nvidia-smi\n",
        "!pip install gputil\n",
        "!pip install psutil\n",
        "!pip install humanize\n",
        "import psutil\n",
        "import humanize\n",
        "import os\n",
        "import GPUtil as GPU\n",
        "GPUs = GPU.getGPUs()\n",
        "# XXX: only one GPU on Colab and isn’t guaranteed\n",
        "gpu = GPUs[0]\n",
        "def printm():\n",
        "    process = psutil.Process(os.getpid())\n",
        "    print(\"Gen RAM Free: \" + humanize.naturalsize( psutil.virtual_memory().available ), \" | Proc size: \" + humanize.naturalsize( process.memory_info().rss))\n",
        "    print(\"GPU RAM Free: {0:.0f}MB | Used: {1:.0f}MB | Util {2:3.0f}% | Total {3:.0f}MB\".format(gpu.memoryFree, gpu.memoryUsed, gpu.memoryUtil*100, gpu.memoryTotal))\n",
        "printm() "
      ],
      "execution_count": 0,
      "outputs": [
        {
          "output_type": "stream",
          "text": [
            "Requirement already satisfied: gputil in /usr/local/lib/python2.7/dist-packages (1.4.0)\n",
            "Requirement already satisfied: psutil in /usr/local/lib/python2.7/dist-packages (5.4.8)\n",
            "Requirement already satisfied: humanize in /usr/local/lib/python2.7/dist-packages (0.5.1)\n",
            "('Gen RAM Free: 12.8 GB', ' | Proc size: 335.9 MB')\n",
            "GPU RAM Free: 11430MB | Used: 11MB | Util   0% | Total 11441MB\n"
          ],
          "name": "stdout"
        }
      ]
    },
    {
      "metadata": {
        "id": "Zpr41fA_oE3e",
        "colab_type": "code",
        "outputId": "6a84f322-396f-45b2-bb56-3cb30ac905cd",
        "colab": {
          "base_uri": "https://localhost:8080/",
          "height": 87
        }
      },
      "cell_type": "code",
      "source": [
        "device = torch.cuda.current_device()\n",
        "print(device)\n",
        "print(torch.cuda.device(device))\n",
        "print(torch.cuda.device_count())\n",
        "print(torch.cuda.get_device_name(0))"
      ],
      "execution_count": 0,
      "outputs": [
        {
          "output_type": "stream",
          "text": [
            "0\n",
            "<torch.cuda.device object at 0x7f01d46aa090>\n",
            "1\n",
            "Tesla K80\n"
          ],
          "name": "stdout"
        }
      ]
    },
    {
      "metadata": {
        "id": "P7qz-eTJKJBC",
        "colab_type": "text"
      },
      "cell_type": "markdown",
      "source": [
        "# One Shot Learning with Siamese Networks"
      ]
    },
    {
      "metadata": {
        "id": "TLIqa81pKFC4",
        "colab_type": "text"
      },
      "cell_type": "markdown",
      "source": [
        ""
      ]
    },
    {
      "metadata": {
        "id": "ygpP7SgAn18N",
        "colab_type": "code",
        "colab": {}
      },
      "cell_type": "code",
      "source": [
        "%matplotlib inline\n",
        "import numpy as np\n",
        "import torch\n",
        "import matplotlib.pyplot as plt\n",
        "import cv2\n",
        "from torch.utils.data import DataLoader, Dataset\n",
        "import torchvision\n",
        "import torchvision.datasets as dset\n",
        "import os\n",
        "import torchvision.transforms as transforms\n",
        "import torchvision.transforms.functional as VF\n",
        "from PIL import Image\n",
        "import torch.nn as nn"
      ],
      "execution_count": 0,
      "outputs": []
    },
    {
      "metadata": {
        "id": "w-cSBeFdrUTT",
        "colab_type": "text"
      },
      "cell_type": "markdown",
      "source": [
        "## Load AT&T face dataset"
      ]
    },
    {
      "metadata": {
        "id": "X6Z_7Kgnowy6",
        "colab_type": "code",
        "outputId": "70e556bb-c6e7-46e2-94e2-6e213d18245c",
        "colab": {
          "base_uri": "https://localhost:8080/",
          "height": 351
        }
      },
      "cell_type": "code",
      "source": [
        "!wget http://www.cl.cam.ac.uk/Research/DTG/attarchive/pub/data/att_faces.zip"
      ],
      "execution_count": 2,
      "outputs": [
        {
          "output_type": "stream",
          "text": [
            "--2019-03-29 13:02:52--  http://www.cl.cam.ac.uk/Research/DTG/attarchive/pub/data/att_faces.zip\n",
            "Resolving www.cl.cam.ac.uk (www.cl.cam.ac.uk)... 128.232.0.20, 2001:630:212:200::80:14\n",
            "Connecting to www.cl.cam.ac.uk (www.cl.cam.ac.uk)|128.232.0.20|:80... connected.\n",
            "HTTP request sent, awaiting response... 302 Found\n",
            "Location: https://www.cl.cam.ac.uk/Research/DTG/attarchive/pub/data/att_faces.zip [following]\n",
            "--2019-03-29 13:02:57--  https://www.cl.cam.ac.uk/Research/DTG/attarchive/pub/data/att_faces.zip\n",
            "Connecting to www.cl.cam.ac.uk (www.cl.cam.ac.uk)|128.232.0.20|:443... connected.\n",
            "HTTP request sent, awaiting response... 301 Moved Permanently\n",
            "Location: https://www.cl.cam.ac.uk/research/dtg/attarchive/pub/data/att_faces.zip [following]\n",
            "--2019-03-29 13:02:58--  https://www.cl.cam.ac.uk/research/dtg/attarchive/pub/data/att_faces.zip\n",
            "Reusing existing connection to www.cl.cam.ac.uk:443.\n",
            "HTTP request sent, awaiting response... 200 OK\n",
            "Length: 3769022 (3.6M) [application/zip]\n",
            "Saving to: ‘att_faces.zip’\n",
            "\n",
            "att_faces.zip       100%[===================>]   3.59M  1.75MB/s    in 2.1s    \n",
            "\n",
            "2019-03-29 13:03:01 (1.75 MB/s) - ‘att_faces.zip’ saved [3769022/3769022]\n",
            "\n"
          ],
          "name": "stdout"
        }
      ]
    },
    {
      "metadata": {
        "id": "ZpnW5o-4rhVU",
        "colab_type": "code",
        "outputId": "8c1549cc-a432-488b-8d1c-6cd4f72a9f93",
        "colab": {
          "base_uri": "https://localhost:8080/",
          "height": 158
        }
      },
      "cell_type": "code",
      "source": [
        "!pwd\n",
        "!mkdir data\n",
        "!mkdir data/att\n",
        "!ls -la"
      ],
      "execution_count": 4,
      "outputs": [
        {
          "output_type": "stream",
          "text": [
            "/content\n",
            "total 3708\n",
            "drwxr-xr-x 1 root root    4096 Mar 29 13:03 .\n",
            "drwxr-xr-x 1 root root    4096 Mar 29 13:01 ..\n",
            "-rw-r--r-- 1 root root 3769022 Jun 28  2005 att_faces.zip\n",
            "drwxr-xr-x 4 root root    4096 Mar 27 20:25 .config\n",
            "drwxr-xr-x 3 root root    4096 Mar 29 13:03 data\n",
            "drwxr-xr-x 1 root root    4096 Mar 27 20:26 sample_data\n"
          ],
          "name": "stdout"
        }
      ]
    },
    {
      "metadata": {
        "id": "hOllpZmtvBsb",
        "colab_type": "code",
        "colab": {}
      },
      "cell_type": "code",
      "source": [
        "!unzip att_faces.zip -d data/att"
      ],
      "execution_count": 0,
      "outputs": []
    },
    {
      "metadata": {
        "id": "e9Bx-dVKvqZa",
        "colab_type": "code",
        "outputId": "6d0dee7b-7dc7-4d95-fe56-bb9b9a7cc202",
        "colab": {
          "base_uri": "https://localhost:8080/",
          "height": 70
        }
      },
      "cell_type": "code",
      "source": [
        "!ls data/att"
      ],
      "execution_count": 6,
      "outputs": [
        {
          "output_type": "stream",
          "text": [
            "README\ts11  s14  s17  s2   s22  s25  s28  s30\ts33  s36  s39  s5  s8\n",
            "s1\ts12  s15  s18  s20  s23  s26  s29  s31\ts34  s37  s4   s6  s9\n",
            "s10\ts13  s16  s19  s21  s24  s27  s3   s32\ts35  s38  s40  s7\n"
          ],
          "name": "stdout"
        }
      ]
    },
    {
      "metadata": {
        "id": "vQ4ij8L0vwq3",
        "colab_type": "code",
        "outputId": "b9ae3cf7-dc63-4cac-e7c4-82cd22978c27",
        "colab": {
          "base_uri": "https://localhost:8080/",
          "height": 321
        }
      },
      "cell_type": "code",
      "source": [
        "def image_example():\n",
        "    path = './data/att/s19/'\n",
        "    images_p = [path + img for img in os.listdir(path)][:1]\n",
        "    print(images_p)\n",
        "    for img_p in images_p:\n",
        "        img = cv2.imread(img_p)\n",
        "        print(img_p)\n",
        "        print(img.shape)\n",
        "        plt.imshow(cv2.cvtColor(img, cv2.COLOR_BGR2RGB))\n",
        "        plt.show()\n",
        "\n",
        "image_example()"
      ],
      "execution_count": 69,
      "outputs": [
        {
          "output_type": "stream",
          "text": [
            "['./data/att/s19/4.pgm']\n",
            "./data/att/s19/4.pgm\n",
            "(112, 92, 3)\n"
          ],
          "name": "stdout"
        },
        {
          "output_type": "display_data",
          "data": {
            "image/png": "[encoded data removed]",
            "text/plain": [
              "<Figure size 432x288 with 1 Axes>"
            ]
          },
          "metadata": {
            "tags": []
          }
        }
      ]
    },
    {
      "metadata": {
        "id": "Q_jArtSWD3_3",
        "colab_type": "text"
      },
      "cell_type": "markdown",
      "source": [
        "## Dataset"
      ]
    },
    {
      "metadata": {
        "id": "4pLb7RLIjk5G",
        "colab_type": "code",
        "colab": {}
      },
      "cell_type": "code",
      "source": [
        "def imshow(img, text=None):\n",
        "    npimg = img.numpy()\n",
        "    plt.axis(\"off\")\n",
        "    if text:\n",
        "        plt.text(75, 8, text, style='italic',fontweight='bold',\n",
        "                 bbox={'facecolor':'white', 'alpha':0.8, 'pad':10})\n",
        "    print(np.transpose(npimg, (1, 2, 0)).shape)\n",
        "    plt.imshow(np.transpose(npimg, (1, 2, 0)))\n",
        "    plt.show()"
      ],
      "execution_count": 0,
      "outputs": []
    },
    {
      "metadata": {
        "id": "7AueFC4QDyTP",
        "colab_type": "code",
        "colab": {}
      },
      "cell_type": "code",
      "source": [
        "class Config():\n",
        "    path_att = './data/att/'"
      ],
      "execution_count": 0,
      "outputs": []
    },
    {
      "metadata": {
        "id": "NhtGoaZtFOwQ",
        "colab_type": "code",
        "colab": {}
      },
      "cell_type": "code",
      "source": [
        "class SiameseDataset(Dataset):\n",
        "    def __init__(self, imageFolderDataset, transform=None):\n",
        "        self.imageFolderDataset = imageFolderDataset\n",
        "        self.transform = transform\n",
        "        \n",
        "    def __getitem__(self, index):\n",
        "        #anchor image or true image\n",
        "#         np.random.seed(42)\n",
        "        idx = np.random.randint(0, len(self.imageFolderDataset.imgs))\n",
        "        anchor = self.imageFolderDataset.imgs[idx]\n",
        "    \n",
        "        should_get_same_class = np.random.randint(0, 2) \n",
        "        if should_get_same_class:\n",
        "            while True:\n",
        "                #keep looping till the same class image is found\n",
        "                idx = np.random.randint(0, len(self.imageFolderDataset.imgs))\n",
        "                img1_tuple = self.imageFolderDataset.imgs[idx]\n",
        "                if anchor[1]==img1_tuple[1]:\n",
        "                    break\n",
        "        else:\n",
        "            while True:\n",
        "                #keep looping till a different class image is found\n",
        "                idx = np.random.randint(0, len(self.imageFolderDataset.imgs))\n",
        "                img1_tuple = self.imageFolderDataset.imgs[idx] \n",
        "                if anchor[1] !=img1_tuple[1]:\n",
        "                    break\n",
        "        \n",
        "#         anchor_img = Image.open(anchor[0])\n",
        "#         img = Image.open(img1_tuple[0])\n",
        "#         anchor_img = anchor_img.convert(\"L\")\n",
        "#         img = img.convert(\"L\")\n",
        "        anchor_img = cv2.imread(anchor[0])\n",
        "        anchor_img = cv2.cvtColor(anchor_img, cv2.COLOR_BGR2GRAY)\n",
        "        anchor_img = torch.from_numpy(anchor_img)\n",
        "        anchor_img = VF.to_pil_image(anchor_img)\n",
        "        img = cv2.imread(img1_tuple[0])\n",
        "        img = cv2.cvtColor(img, cv2.COLOR_BGR2GRAY)\n",
        "        img = torch.from_numpy(img)\n",
        "        img = VF.to_pil_image(img)\n",
        "        \n",
        "        if self.transform is not None:\n",
        "            anchor_img = self.transform(anchor_img)\n",
        "            img = self.transform(img)\n",
        "        \n",
        "        # 0 - equal images, 1 - not equal\n",
        "        target = torch.from_numpy(np.array([int(anchor[1]!=img1_tuple[1])], dtype=np.float32))\n",
        "        return anchor_img, img, target\n",
        "    \n",
        "    def __len__(self):\n",
        "        return len(self.imageFolderDataset.imgs)"
      ],
      "execution_count": 0,
      "outputs": []
    },
    {
      "metadata": {
        "id": "vYTk9S3nJ2Cq",
        "colab_type": "text"
      },
      "cell_type": "markdown",
      "source": [
        "## Testing Dataset"
      ]
    },
    {
      "metadata": {
        "id": "J8Dc3_oaJ1JP",
        "colab_type": "code",
        "outputId": "a6159216-9aa1-460c-90c2-ad2ab28a9613",
        "colab": {
          "base_uri": "https://localhost:8080/",
          "height": 361
        }
      },
      "cell_type": "code",
      "source": [
        "def test_dataset():\n",
        "    folder_dataset = dset.ImageFolder(root=Config.path_att)\n",
        "    print(folder_dataset)\n",
        "    siamese_dataset = SiameseDataset(imageFolderDataset=folder_dataset,\n",
        "                                     transform=transforms.Compose([transforms.Resize((100,100)),\n",
        "                                                                   transforms.ToTensor()]))\n",
        "    vis_dataloader = DataLoader(siamese_dataset, shuffle=True, num_workers=8,\n",
        "                                batch_size=1)\n",
        "    dataiter = iter(vis_dataloader)\n",
        "    example_batch = next(dataiter)\n",
        "    concatenated = torch.cat((example_batch[0], example_batch[1]), 0)\n",
        "    print(example_batch[-1])\n",
        "    print(concatenated.shape)\n",
        "    imshow(torchvision.utils.make_grid(concatenated))\n",
        "\n",
        "test_dataset()"
      ],
      "execution_count": 100,
      "outputs": [
        {
          "output_type": "stream",
          "text": [
            "Dataset ImageFolder\n",
            "    Number of datapoints: 400\n",
            "    Root Location: ./data/att/\n",
            "    Transforms (if any): None\n",
            "    Target Transforms (if any): None\n",
            "tensor([[0.]])\n",
            "torch.Size([2, 1, 100, 100])\n",
            "(104, 206, 3)\n"
          ],
          "name": "stdout"
        },
        {
          "output_type": "display_data",
          "data": {
            "image/png": "[encoded data removed]",
            "text/plain": [
              "<Figure size 432x288 with 1 Axes>"
            ]
          },
          "metadata": {
            "tags": []
          }
        }
      ]
    },
    {
      "metadata": {
        "id": "rGwo-XjXqqtu",
        "colab_type": "text"
      },
      "cell_type": "markdown",
      "source": [
        "## Siamese Network with standart CNN"
      ]
    },
    {
      "metadata": {
        "id": "ApsQh4AxuQB-",
        "colab_type": "code",
        "colab": {}
      },
      "cell_type": "code",
      "source": [
        "class NetworkConfig():\n",
        "    def conv(in_channels, out_channels, kernel_size, stride=1, padding=True,\n",
        "             activation='leaky', batch_norm=True):\n",
        "        return {'in_channels': in_channels, 'out_channels': out_channels,\n",
        "                'kernel_size': kernel_size, 'stride': stride,\n",
        "                'padding': padding, 'activation': activation,\n",
        "                'batch_norm': batch_norm, 'type': 'conv'}\n",
        "\n",
        "    def fc(in_size, out_size, activation='leaky'):\n",
        "        return {\n",
        "            'in_size': in_size,\n",
        "            'out_size': out_size,\n",
        "            'activation': activation,\n",
        "            'type': 'fc'\n",
        "        }\n",
        "\n",
        "    config = {\n",
        "        'conv_1': NetworkConfig.conv(in_channels=1, out_channels=8, kernel_size=3),\n",
        "        'conv_2': NetworkConfig.conv(in_channels=8, out_channels=16, kernel_size=3),\n",
        "        'conv_3': NetworkConfig.conv(in_channels=16, out_channels=16, kernel_size=3),\n",
        "        'fc_1': NetworkConfig.fc(in_size=16*100*100, out_size=1000),\n",
        "        'fc_2': NetworkConfig.fc(in_size=1000, out_size=500),\n",
        "        'out': NetworkConfig.fc(in_size=500, out_size=5, activation=None)\n",
        "    }"
      ],
      "execution_count": 0,
      "outputs": []
    },
    {
      "metadata": {
        "id": "2heXwf6Sqy1X",
        "colab_type": "code",
        "colab": {}
      },
      "cell_type": "code",
      "source": [
        "class SiameseNetwork(nn.Module):\n",
        "    def __init__(self, config):\n",
        "        super(SiameseNetwork, self).__init__()\n",
        "        self.config = config\n",
        "        self.network = self.create_cnn_layers()\n",
        "    \n",
        "    def forward(self, x):\n",
        "        for i, layer in enumerate(self.network):\n",
        "            if i == self.number_of_convs:\n",
        "                x = layer(x.view(x.size()[0], -1))\n",
        "            else:\n",
        "                x = layer(x)\n",
        "#             print(list(layer.named_modules())[0])\n",
        "#         output = self.cnn(x)\n",
        "#         output = output.view(output.size()[0], -1)\n",
        "#         output = self.fc1(output)\n",
        "        return x\n",
        "        \n",
        "    def create_cnn_layers(self):\n",
        "        module_list = nn.ModuleList()\n",
        "        self.number_of_convs = 0\n",
        "        for i, layer in enumerate(self.config):\n",
        "            module = nn.Sequential()\n",
        "            conf = self.config[layer]\n",
        "            if conf['type'] == 'conv':\n",
        "                self.number_of_convs += 1\n",
        "                activation = conf['activation']\n",
        "                in_channels = int(conf['in_channels'])\n",
        "                out_channels= int(conf['out_channels'])\n",
        "                padding = int(conf['padding'])\n",
        "                kernel_size = int(conf['kernel_size'])\n",
        "                stride = int(conf['stride'])\n",
        "                if padding:\n",
        "                    pad = (kernel_size - 1) // 2\n",
        "                else:\n",
        "                    pad = 0\n",
        "                conv = nn.Conv2d(in_channels, out_channels, kernel_size, stride, pad)\n",
        "                module.add_module('conv_{0}'.format(i), conv)\n",
        "                batch_normalize = conf['batch_norm']\n",
        "                if batch_normalize:\n",
        "                    bn = nn.BatchNorm2d(out_channels)\n",
        "                    module.add_module('batch_norm_{0}'.format(i), bn)\n",
        "            elif conf['type'] == 'fc':\n",
        "                in_size = int(conf['in_size'])\n",
        "                out_size= int(conf['out_size'])\n",
        "                fc = nn.Linear(in_size, out_size)\n",
        "                module.add_module(layer, fc)\n",
        "            if activation == 'leaky':\n",
        "                activn = nn.LeakyReLU(0.1, inplace = True)\n",
        "            elif activation == 'relu':\n",
        "                activn = nn.ReLU(inplace=True)\n",
        "            module.add_module(activation + '_{0}'.format(i), activn)\n",
        "            module_list.append(module)\n",
        "        return module_list\n",
        "                \n",
        "            "
      ],
      "execution_count": 0,
      "outputs": []
    },
    {
      "metadata": {
        "id": "J8aW7ZDnzE_A",
        "colab_type": "code",
        "colab": {
          "base_uri": "https://localhost:8080/",
          "height": 686
        },
        "outputId": "bed36ced-e52e-4725-81f4-20abe02dfe60"
      },
      "cell_type": "code",
      "source": [
        "net = SiameseNetwork(NetworkConfig.config)\n",
        "print(net)\n",
        "folder_dataset = dset.ImageFolder(root=Config.path_att)\n",
        "print(folder_dataset)\n",
        "siamese_dataset = SiameseDataset(imageFolderDataset=folder_dataset,\n",
        "                                     transform=transforms.Compose([transforms.Resize((100,100)),\n",
        "                                                                   transforms.ToTensor()]))\n",
        "vis_dataloader = DataLoader(siamese_dataset, shuffle=True, num_workers=8,\n",
        "                                batch_size=1)\n",
        "dataiter = iter(vis_dataloader)\n",
        "example_batch = next(dataiter)\n",
        "print(example_batch[0][0].view(1, 1, 100, 100).shape)\n",
        "\n",
        "net(example_batch[0][0].view(1, 1, 100, 100)).shape\n"
      ],
      "execution_count": 172,
      "outputs": [
        {
          "output_type": "stream",
          "text": [
            "SiameseNetwork(\n",
            "  (network): ModuleList(\n",
            "    (0): Sequential(\n",
            "      (conv_0): Conv2d(1, 8, kernel_size=(3, 3), stride=(1, 1), padding=(1, 1))\n",
            "      (batch_norm_0): BatchNorm2d(8, eps=1e-05, momentum=0.1, affine=True, track_running_stats=True)\n",
            "      (leaky_0): LeakyReLU(negative_slope=0.1, inplace)\n",
            "    )\n",
            "    (1): Sequential(\n",
            "      (conv_1): Conv2d(8, 16, kernel_size=(3, 3), stride=(1, 1), padding=(1, 1))\n",
            "      (batch_norm_1): BatchNorm2d(16, eps=1e-05, momentum=0.1, affine=True, track_running_stats=True)\n",
            "      (leaky_1): LeakyReLU(negative_slope=0.1, inplace)\n",
            "    )\n",
            "    (2): Sequential(\n",
            "      (conv_2): Conv2d(16, 16, kernel_size=(3, 3), stride=(1, 1), padding=(1, 1))\n",
            "      (batch_norm_2): BatchNorm2d(16, eps=1e-05, momentum=0.1, affine=True, track_running_stats=True)\n",
            "      (leaky_2): LeakyReLU(negative_slope=0.1, inplace)\n",
            "    )\n",
            "    (3): Sequential(\n",
            "      (fc_1): Linear(in_features=160000, out_features=1000, bias=True)\n",
            "      (leaky_3): LeakyReLU(negative_slope=0.1, inplace)\n",
            "    )\n",
            "    (4): Sequential(\n",
            "      (fc_2): Linear(in_features=1000, out_features=500, bias=True)\n",
            "      (leaky_4): LeakyReLU(negative_slope=0.1, inplace)\n",
            "    )\n",
            "    (5): Sequential(\n",
            "      (out): Linear(in_features=500, out_features=5, bias=True)\n",
            "      (leaky_5): LeakyReLU(negative_slope=0.1, inplace)\n",
            "    )\n",
            "  )\n",
            ")\n",
            "Dataset ImageFolder\n",
            "    Number of datapoints: 400\n",
            "    Root Location: ./data/att/\n",
            "    Transforms (if any): None\n",
            "    Target Transforms (if any): None\n",
            "torch.Size([1, 1, 100, 100])\n"
          ],
          "name": "stdout"
        },
        {
          "output_type": "execute_result",
          "data": {
            "text/plain": [
              "torch.Size([1, 5])"
            ]
          },
          "metadata": {
            "tags": []
          },
          "execution_count": 172
        }
      ]
    }
  ]
}