{
  "nbformat": 4,
  "nbformat_minor": 0,
  "metadata": {
    "colab": {
      "name": "FaceVerif.ipynb",
      "version": "0.3.2",
      "provenance": []
    },
    "kernelspec": {
      "name": "python3",
      "display_name": "Python 3"
    },
    "accelerator": "GPU"
  },
  "cells": [
    {
      "metadata": {
        "id": "iVv5IS7PJ8f8",
        "colab_type": "text"
      },
      "cell_type": "markdown",
      "source": [
        "# Colab Info"
      ]
    },
    {
      "metadata": {
        "id": "S_Y1mVzQmSkR",
        "colab_type": "code",
        "colab": {
          "base_uri": "https://localhost:8080/",
          "height": 298
        },
        "outputId": "58afd9d8-16bb-4b76-f5d0-2f5e689b9f57"
      },
      "cell_type": "code",
      "source": [
        "!pip3 install http://download.pytorch.org/whl/cu92/torch-0.4.1-cp36-cp36m-linux_x86_64.whl\n",
        "!pip3 install torchvision"
      ],
      "execution_count": 3,
      "outputs": [
        {
          "output_type": "stream",
          "text": [
            "Collecting torch==0.4.1 from http://download.pytorch.org/whl/cu92/torch-0.4.1-cp36-cp36m-linux_x86_64.whl\n",
            "\u001b[?25l  Downloading http://download.pytorch.org/whl/cu92/torch-0.4.1-cp36-cp36m-linux_x86_64.whl (512.6MB)\n",
            "\u001b[K    100% |████████████████████████████████| 512.6MB 92.6MB/s \n",
            "\u001b[31mfastai 1.0.49 has requirement numpy>=1.15, but you'll have numpy 1.14.6 which is incompatible.\u001b[0m\n",
            "\u001b[31mfastai 1.0.49 has requirement torch>=1.0.0, but you'll have torch 0.4.1 which is incompatible.\u001b[0m\n",
            "\u001b[?25hInstalling collected packages: torch\n",
            "  Found existing installation: torch 1.0.1.post2\n",
            "    Uninstalling torch-1.0.1.post2:\n",
            "      Successfully uninstalled torch-1.0.1.post2\n",
            "Successfully installed torch-0.4.1\n",
            "Requirement already satisfied: torchvision in /usr/local/lib/python3.6/dist-packages (0.2.2.post3)\n",
            "Requirement already satisfied: numpy in /usr/local/lib/python3.6/dist-packages (from torchvision) (1.14.6)\n",
            "Requirement already satisfied: torch in /usr/local/lib/python3.6/dist-packages (from torchvision) (0.4.1)\n",
            "Requirement already satisfied: six in /usr/local/lib/python3.6/dist-packages (from torchvision) (1.11.0)\n",
            "Requirement already satisfied: pillow>=4.1.1 in /usr/local/lib/python3.6/dist-packages (from torchvision) (4.1.1)\n",
            "Requirement already satisfied: olefile in /usr/local/lib/python3.6/dist-packages (from pillow>=4.1.1->torchvision) (0.46)\n"
          ],
          "name": "stdout"
        }
      ]
    },
    {
      "metadata": {
        "id": "O85sEoU2nLgq",
        "colab_type": "code",
        "colab": {
          "base_uri": "https://localhost:8080/",
          "height": 105
        },
        "outputId": "fc1f1767-88a5-48a4-fa63-c46cc63e4a77"
      },
      "cell_type": "code",
      "source": [
        "\n",
        "# memory footprint support libraries/code\n",
        "!ln -sf /opt/bin/nvidia-smi /usr/bin/nvidia-smi\n",
        "!pip install gputil\n",
        "!pip install psutil\n",
        "!pip install humanize\n",
        "import psutil\n",
        "import humanize\n",
        "import os\n",
        "import GPUtil as GPU\n",
        "GPUs = GPU.getGPUs()\n",
        "# XXX: only one GPU on Colab and isn’t guaranteed\n",
        "gpu = GPUs[0]\n",
        "def printm():\n",
        "    process = psutil.Process(os.getpid())\n",
        "    print(\"Gen RAM Free: \" + humanize.naturalsize( psutil.virtual_memory().available ), \" | Proc size: \" + humanize.naturalsize( process.memory_info().rss))\n",
        "    print(\"GPU RAM Free: {0:.0f}MB | Used: {1:.0f}MB | Util {2:3.0f}% | Total {3:.0f}MB\".format(gpu.memoryFree, gpu.memoryUsed, gpu.memoryUtil*100, gpu.memoryTotal))\n",
        "printm() "
      ],
      "execution_count": 36,
      "outputs": [
        {
          "output_type": "stream",
          "text": [
            "Requirement already satisfied: gputil in /usr/local/lib/python2.7/dist-packages (1.4.0)\n",
            "Requirement already satisfied: psutil in /usr/local/lib/python2.7/dist-packages (5.4.8)\n",
            "Requirement already satisfied: humanize in /usr/local/lib/python2.7/dist-packages (0.5.1)\n",
            "('Gen RAM Free: 12.8 GB', ' | Proc size: 335.9 MB')\n",
            "GPU RAM Free: 11430MB | Used: 11MB | Util   0% | Total 11441MB\n"
          ],
          "name": "stdout"
        }
      ]
    },
    {
      "metadata": {
        "id": "Zpr41fA_oE3e",
        "colab_type": "code",
        "colab": {
          "base_uri": "https://localhost:8080/",
          "height": 87
        },
        "outputId": "6a84f322-396f-45b2-bb56-3cb30ac905cd"
      },
      "cell_type": "code",
      "source": [
        "device = torch.cuda.current_device()\n",
        "print(device)\n",
        "print(torch.cuda.device(device))\n",
        "print(torch.cuda.device_count())\n",
        "print(torch.cuda.get_device_name(0))"
      ],
      "execution_count": 8,
      "outputs": [
        {
          "output_type": "stream",
          "text": [
            "0\n",
            "<torch.cuda.device object at 0x7f01d46aa090>\n",
            "1\n",
            "Tesla K80\n"
          ],
          "name": "stdout"
        }
      ]
    },
    {
      "metadata": {
        "id": "P7qz-eTJKJBC",
        "colab_type": "text"
      },
      "cell_type": "markdown",
      "source": [
        "# One Shot Learning with Siamese Networks"
      ]
    },
    {
      "metadata": {
        "id": "TLIqa81pKFC4",
        "colab_type": "text"
      },
      "cell_type": "markdown",
      "source": [
        ""
      ]
    },
    {
      "metadata": {
        "id": "ygpP7SgAn18N",
        "colab_type": "code",
        "colab": {}
      },
      "cell_type": "code",
      "source": [
        "%matplotlib inline\n",
        "import numpy as np\n",
        "import torch\n",
        "import matplotlib.pyplot as plt\n",
        "import cv2\n",
        "from torch.utils.data import DataLoader, Dataset\n",
        "import torchvision\n",
        "import torchvision.datasets as dset\n",
        "import os\n",
        "import torchvision.transforms as transforms\n",
        "import torchvision.transforms.functional as VF"
      ],
      "execution_count": 0,
      "outputs": []
    },
    {
      "metadata": {
        "id": "w-cSBeFdrUTT",
        "colab_type": "text"
      },
      "cell_type": "markdown",
      "source": [
        "## Load AT&T face dataset"
      ]
    },
    {
      "metadata": {
        "id": "X6Z_7Kgnowy6",
        "colab_type": "code",
        "colab": {
          "base_uri": "https://localhost:8080/",
          "height": 298
        },
        "outputId": "c5af36b0-c1f2-4612-8a2a-9d2da3977431"
      },
      "cell_type": "code",
      "source": [
        "!wget http://www.cl.cam.ac.uk/Research/DTG/attarchive/pub/data/att_faces.zip"
      ],
      "execution_count": 2,
      "outputs": [
        {
          "output_type": "stream",
          "text": [
            "URL transformed to HTTPS due to an HSTS policy\n",
            "--2019-03-29 11:42:49--  https://www.cl.cam.ac.uk/Research/DTG/attarchive/pub/data/att_faces.zip\n",
            "Resolving www.cl.cam.ac.uk (www.cl.cam.ac.uk)... 128.232.0.20, 2001:630:212:200::80:14\n",
            "Connecting to www.cl.cam.ac.uk (www.cl.cam.ac.uk)|128.232.0.20|:443... connected.\n",
            "HTTP request sent, awaiting response... 301 Moved Permanently\n",
            "Location: https://www.cl.cam.ac.uk/research/dtg/attarchive/pub/data/att_faces.zip [following]\n",
            "--2019-03-29 11:42:49--  https://www.cl.cam.ac.uk/research/dtg/attarchive/pub/data/att_faces.zip\n",
            "Reusing existing connection to www.cl.cam.ac.uk:443.\n",
            "HTTP request sent, awaiting response... 200 OK\n",
            "Length: 3769022 (3.6M) [application/zip]\n",
            "Saving to: ‘att_faces.zip.1’\n",
            "\n",
            "\ratt_faces.zip.1       0%[                    ]       0  --.-KB/s               \ratt_faces.zip.1     100%[===================>]   3.59M  --.-KB/s    in 0.1s    \n",
            "\n",
            "2019-03-29 11:42:50 (25.1 MB/s) - ‘att_faces.zip.1’ saved [3769022/3769022]\n",
            "\n"
          ],
          "name": "stdout"
        }
      ]
    },
    {
      "metadata": {
        "id": "ZpnW5o-4rhVU",
        "colab_type": "code",
        "colab": {
          "base_uri": "https://localhost:8080/",
          "height": 210
        },
        "outputId": "9f3f8979-5237-4eaf-b60f-d7baf86a36fd"
      },
      "cell_type": "code",
      "source": [
        "!pwd\n",
        "!mkdir data\n",
        "!mkdir data/att\n",
        "!ls -la"
      ],
      "execution_count": 3,
      "outputs": [
        {
          "output_type": "stream",
          "text": [
            "/content\n",
            "mkdir: cannot create directory ‘data’: File exists\n",
            "mkdir: cannot create directory ‘data/att’: File exists\n",
            "total 7396\n",
            "drwxr-xr-x 1 root root    4096 Mar 29 11:42 .\n",
            "drwxr-xr-x 1 root root    4096 Mar 29 08:37 ..\n",
            "-rw-r--r-- 1 root root 3769022 Jun 28  2005 att_faces.zip\n",
            "-rw-r--r-- 1 root root 3769022 Jun 28  2005 att_faces.zip.1\n",
            "drwxr-xr-x 4 root root    4096 Mar 27 20:25 .config\n",
            "drwxr-xr-x 3 root root    4096 Mar 29 09:17 data\n",
            "drwxr-xr-x 1 root root    4096 Mar 27 20:26 sample_data\n"
          ],
          "name": "stdout"
        }
      ]
    },
    {
      "metadata": {
        "id": "hOllpZmtvBsb",
        "colab_type": "code",
        "colab": {
          "base_uri": "https://localhost:8080/",
          "height": 70
        },
        "outputId": "ee84935e-e5c5-48db-e28d-331381d78c40"
      },
      "cell_type": "code",
      "source": [
        "!unzip att_faces.zip -d data/att"
      ],
      "execution_count": 4,
      "outputs": [
        {
          "output_type": "stream",
          "text": [
            "Archive:  att_faces.zip\n",
            "replace data/att/README? [y]es, [n]o, [A]ll, [N]one, [r]ename: n\n",
            "replace data/att/s1/6.pgm? [y]es, [n]o, [A]ll, [N]one, [r]ename: "
          ],
          "name": "stdout"
        }
      ]
    },
    {
      "metadata": {
        "id": "e9Bx-dVKvqZa",
        "colab_type": "code",
        "colab": {
          "base_uri": "https://localhost:8080/",
          "height": 70
        },
        "outputId": "445eac16-fdb3-47bc-f3e0-29d1678fcb7a"
      },
      "cell_type": "code",
      "source": [
        "!ls data/att"
      ],
      "execution_count": 5,
      "outputs": [
        {
          "output_type": "stream",
          "text": [
            "README\ts11  s14  s17  s2   s22  s25  s28  s30\ts33  s36  s39  s5  s8\n",
            "s1\ts12  s15  s18  s20  s23  s26  s29  s31\ts34  s37  s4   s6  s9\n",
            "s10\ts13  s16  s19  s21  s24  s27  s3   s32\ts35  s38  s40  s7\n"
          ],
          "name": "stdout"
        }
      ]
    },
    {
      "metadata": {
        "id": "vQ4ij8L0vwq3",
        "colab_type": "code",
        "colab": {
          "base_uri": "https://localhost:8080/",
          "height": 303
        },
        "outputId": "ecdc94d5-43ff-43f3-97cf-b02e910dbc87"
      },
      "cell_type": "code",
      "source": [
        "def image_example():\n",
        "    path = './data/att/s1/'\n",
        "    images_p = [path + img for img in os.listdir(path)][:1]\n",
        "    print(images_p)\n",
        "    for img_p in images_p:\n",
        "        img = cv2.imread(img_p)\n",
        "        print(img.shape)\n",
        "        plt.imshow(cv2.cvtColor(img, cv2.COLOR_BGR2RGB))\n",
        "        plt.show()\n",
        "\n",
        "image_example()"
      ],
      "execution_count": 8,
      "outputs": [
        {
          "output_type": "stream",
          "text": [
            "['./data/att/s1/4.pgm']\n",
            "(112, 92, 3)\n"
          ],
          "name": "stdout"
        },
        {
          "output_type": "display_data",
          "data": {
            "image/png": "[encoded data removed]",
            "text/plain": [
              "<Figure size 432x288 with 1 Axes>"
            ]
          },
          "metadata": {
            "tags": []
          }
        }
      ]
    },
    {
      "metadata": {
        "id": "Q_jArtSWD3_3",
        "colab_type": "text"
      },
      "cell_type": "markdown",
      "source": [
        "## Dataset"
      ]
    },
    {
      "metadata": {
        "id": "7AueFC4QDyTP",
        "colab_type": "code",
        "colab": {}
      },
      "cell_type": "code",
      "source": [
        "class Config():\n",
        "    path_att = './data/att/'"
      ],
      "execution_count": 0,
      "outputs": []
    },
    {
      "metadata": {
        "id": "NhtGoaZtFOwQ",
        "colab_type": "code",
        "colab": {}
      },
      "cell_type": "code",
      "source": [
        "class SiameseDataset(Dataset):\n",
        "    def __init__(self, imageFolderDataset, transform=None):\n",
        "        self.imageFolderDataset = imageFolderDataset\n",
        "        self.transform = transform\n",
        "        \n",
        "    def __getitem__(self, index):\n",
        "        #anchor image or true image\n",
        "        idx = np.random.randint(0, len(self.imageFolderDataset.imgs))\n",
        "        anchor = self.imageFolderDataset.imgs[idx]\n",
        "    \n",
        "        should_get_same_class = np.random.randint(0, 2) \n",
        "        if should_get_same_class:\n",
        "            while True:\n",
        "                #keep looping till the same class image is found\n",
        "                idx = np.random.randint(0, len(self.imageFolderDataset.imgs))\n",
        "                img1_tuple = self.imageFolderDataset.imgs[idx]\n",
        "                if anchor[1]==img1_tuple[1]:\n",
        "                    break\n",
        "        else:\n",
        "            while True:\n",
        "                #keep looping till a different class image is found\n",
        "                idx = np.random.randint(0, len(self.imageFolderDataset.imgs))\n",
        "                img1_tuple = self.imageFolderDataset.imgs[idx] \n",
        "                if anchor[1] !=img1_tuple[1]:\n",
        "                    break\n",
        "        \n",
        "        anchor_img = cv2.imread(anchor[0])\n",
        "        anchor_img = cv2.cvtColor(anchor_img, cv2.COLOR_BGR2RGB)\n",
        "        anchor_img = torch.from_numpy(anchor_img)\n",
        "        anchor_img = VF.to_pil_image(anchor_img)\n",
        "        img = cv2.imread(img1_tuple[0])\n",
        "        img = cv2.cvtColor(img, cv2.COLOR_BGR2RGB)\n",
        "        img = torch.from_numpy(img)\n",
        "        img = VF.to_pil_image(img)\n",
        "        \n",
        "        if self.transform is not None:\n",
        "            anchor_img = self.transform(anchor_img)\n",
        "            img = self.transform(img)\n",
        "        \n",
        "        # 0 - equal images, 1 - not equal\n",
        "        target = torch.from_numpy(np.array([int(anchor[1]!=img1_tuple[1])], dtype=np.float32))\n",
        "        return anchor_img, img, target\n",
        "    \n",
        "    def __len__(self):\n",
        "        return len(self.imageFolderDataset.imgs)"
      ],
      "execution_count": 0,
      "outputs": []
    },
    {
      "metadata": {
        "id": "vYTk9S3nJ2Cq",
        "colab_type": "text"
      },
      "cell_type": "markdown",
      "source": [
        "## Testing Dataset"
      ]
    },
    {
      "metadata": {
        "id": "J8Dc3_oaJ1JP",
        "colab_type": "code",
        "colab": {
          "base_uri": "https://localhost:8080/",
          "height": 298
        },
        "outputId": "e21b028e-a800-4143-8ff4-982588c0874a"
      },
      "cell_type": "code",
      "source": [
        "def test_dataset():\n",
        "    folder_dataset = dset.ImageFolder(root=Config.path_att)\n",
        "    print(folder_dataset)\n",
        "    siamese_dataset = SiameseDataset(imageFolderDataset=folder_dataset,\n",
        "                                     transform=transforms.Compose([transforms.Resize((100,100)),\n",
        "                                                                   transforms.ToTensor()]))\n",
        "    vis_dataloader = DataLoader(siamese_dataset, shuffle=True, num_workers=8,\n",
        "                                batch_size=10)\n",
        "    dataiter = iter(vis_dataloader)\n",
        "    example_batch = next(dataiter)\n",
        "    concatenated = torch.cat((example_batch[0], example_batch[1]), 0)\n",
        "    print(example_batch[-1])\n",
        "    print(concatenated.shape)\n",
        "\n",
        "test_dataset()"
      ],
      "execution_count": 40,
      "outputs": [
        {
          "output_type": "stream",
          "text": [
            "Dataset ImageFolder\n",
            "    Number of datapoints: 400\n",
            "    Root Location: ./data/att/\n",
            "    Transforms (if any): None\n",
            "    Target Transforms (if any): None\n",
            "tensor([[1.],\n",
            "        [1.],\n",
            "        [1.],\n",
            "        [1.],\n",
            "        [1.],\n",
            "        [1.],\n",
            "        [1.],\n",
            "        [1.],\n",
            "        [1.],\n",
            "        [1.]])\n",
            "torch.Size([20, 3, 100, 100])\n"
          ],
          "name": "stdout"
        }
      ]
    },
    {
      "metadata": {
        "id": "ynaQoYHXNlKd",
        "colab_type": "code",
        "colab": {
          "base_uri": "https://localhost:8080/",
          "height": 34
        },
        "outputId": "665a0fab-de77-425d-e7b3-4d776a1b86b2"
      },
      "cell_type": "code",
      "source": [
        "np.random.randint(0, 400)"
      ],
      "execution_count": 17,
      "outputs": [
        {
          "output_type": "execute_result",
          "data": {
            "text/plain": [
              "358"
            ]
          },
          "metadata": {
            "tags": []
          },
          "execution_count": 17
        }
      ]
    }
  ]
}