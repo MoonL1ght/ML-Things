{
  "nbformat": 4,
  "nbformat_minor": 0,
  "metadata": {
    "colab": {
      "name": "Autoencoder.ipynb",
      "version": "0.3.2",
      "provenance": []
    },
    "kernelspec": {
      "display_name": "Python 3",
      "language": "python",
      "name": "python3"
    },
    "accelerator": "GPU"
  },
  "cells": [
    {
      "metadata": {
        "id": "avs_yPYOGoed",
        "colab_type": "text"
      },
      "cell_type": "markdown",
      "source": [
        "<center><h2>Подготовка работы в Colab</h2></center>"
      ]
    },
    {
      "metadata": {
        "id": "bLIi8mowEdTL",
        "colab_type": "code",
        "colab": {
          "resources": {
            "http://localhost:8080/nbextensions/google.colab/files.js": {
              "data": "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",
              "ok": true,
              "headers": [
                [
                  "content-type",
                  "application/javascript"
                ]
              ],
              "status": 200,
              "status_text": ""
            }
          },
          "base_uri": "https://localhost:8080/",
          "height": 109
        },
        "outputId": "cd67e9b6-65b1-40d3-e3d4-f23163941d3e"
      },
      "cell_type": "code",
      "source": [
        "'''\n",
        "WARNING\n",
        "If you use google colab then run this cell and choose caps_net.py\n",
        "file to upload to the colab server\n",
        "otherwise ignore this cell!!!\n",
        "'''\n",
        "!pip install tqdm\n",
        "from google.colab import files\n",
        "src = list(files.upload().values())[0]\n",
        "open('sources.zip','wb').write(src)"
      ],
      "execution_count": 18,
      "outputs": [
        {
          "output_type": "stream",
          "text": [
            "Requirement already satisfied: tqdm in /usr/local/lib/python3.6/dist-packages (4.26.0)\n"
          ],
          "name": "stdout"
        },
        {
          "output_type": "display_data",
          "data": {
            "text/html": [
              "\n",
              "     <input type=\"file\" id=\"files-930d070c-64a6-4e19-8a5f-7e5abb6edc16\" name=\"files[]\" multiple disabled />\n",
              "     <output id=\"result-930d070c-64a6-4e19-8a5f-7e5abb6edc16\">\n",
              "      Upload widget is only available when the cell has been executed in the\n",
              "      current browser session. Please rerun this cell to enable.\n",
              "      </output>\n",
              "      <script src=\"/nbextensions/google.colab/files.js\"></script> "
            ],
            "text/plain": [
              "<IPython.core.display.HTML object>"
            ]
          },
          "metadata": {
            "tags": []
          }
        },
        {
          "output_type": "stream",
          "text": [
            "Saving sources.zip to sources (3).zip\n"
          ],
          "name": "stdout"
        },
        {
          "output_type": "execute_result",
          "data": {
            "text/plain": [
              "8488758"
            ]
          },
          "metadata": {
            "tags": []
          },
          "execution_count": 18
        }
      ]
    },
    {
      "metadata": {
        "id": "4EO_1n4YGHpO",
        "colab_type": "code",
        "colab": {}
      },
      "cell_type": "code",
      "source": [
        "import zipfile\n",
        "import os\n",
        "newpath = r'./data/sources' \n",
        "if not os.path.exists(newpath):\n",
        "    os.makedirs(newpath)\n",
        "zip_ref = zipfile.ZipFile('sources.zip', 'r')\n",
        "zip_ref.extractall('./data/sources/')\n",
        "zip_ref.close()"
      ],
      "execution_count": 0,
      "outputs": []
    },
    {
      "metadata": {
        "id": "x4Q9AmXlGRiA",
        "colab_type": "code",
        "colab": {
          "base_uri": "https://localhost:8080/",
          "height": 53
        },
        "outputId": "139dba98-bd3a-4a08-aeeb-1126cd1aefb2"
      },
      "cell_type": "code",
      "source": [
        "!ls"
      ],
      "execution_count": 20,
      "outputs": [
        {
          "output_type": "stream",
          "text": [
            "data\t     sources (1).zip  sources (3).zip\n",
            "sample_data  sources (2).zip  sources.zip\n"
          ],
          "name": "stdout"
        }
      ]
    },
    {
      "metadata": {
        "id": "nWGEg8JqEFCu",
        "colab_type": "text"
      },
      "cell_type": "markdown",
      "source": [
        "<h2><center> Подготовка данных</center></h2>"
      ]
    },
    {
      "metadata": {
        "id": "tFSduo4jEFCf",
        "colab_type": "code",
        "colab": {}
      },
      "cell_type": "code",
      "source": [
        "from os import listdir, path\n",
        "from tqdm import tqdm\n",
        "import numpy as np\n",
        "import tensorflow as tf\n",
        "from sklearn.preprocessing import OneHotEncoder"
      ],
      "execution_count": 0,
      "outputs": []
    },
    {
      "metadata": {
        "id": "_RIm1EIgEFCw",
        "colab_type": "code",
        "colab": {
          "base_uri": "https://localhost:8080/",
          "height": 35
        },
        "outputId": "58ba3f54-e463-4672-c505-10bdd3eba421"
      },
      "cell_type": "code",
      "source": [
        "SOURCE_PATH = './data/sources/'\n",
        "\n",
        "'''\n",
        "sources_ws - split by white spaces and \\n\n",
        "sources_ch - split by chars\n",
        "'''\n",
        "sources_ws = []\n",
        "sources_ch = []\n",
        "for file_name in tqdm(listdir(SOURCE_PATH)):\n",
        "    with open(path.join(SOURCE_PATH, file_name), 'r', encoding=\"cp1252\") as file:\n",
        "        data=file.read()\n",
        "        sources_ws.append(data.split())\n",
        "        sources_ch.append([ord(char) for char in list(data)])"
      ],
      "execution_count": 2,
      "outputs": [
        {
          "output_type": "stream",
          "text": [
            "100%|██████████| 21941/21941 [00:02<00:00, 7599.18it/s]\n"
          ],
          "name": "stderr"
        }
      ]
    },
    {
      "metadata": {
        "id": "OpUReUGREFC3",
        "colab_type": "code",
        "colab": {
          "base_uri": "https://localhost:8080/",
          "height": 53
        },
        "outputId": "ea4fe72b-63cb-481b-bc09-1142a775ba32"
      },
      "cell_type": "code",
      "source": [
        "print(len(sources_ws))\n",
        "print(len(sources_ch))"
      ],
      "execution_count": 3,
      "outputs": [
        {
          "output_type": "stream",
          "text": [
            "21941\n",
            "21941\n"
          ],
          "name": "stdout"
        }
      ]
    },
    {
      "metadata": {
        "id": "pMZdNgZyEFC_",
        "colab_type": "code",
        "colab": {
          "base_uri": "https://localhost:8080/",
          "height": 89
        },
        "outputId": "7df196c7-7fcf-4ec1-be3f-0721be139eba"
      },
      "cell_type": "code",
      "source": [
        "lengths_ws = [len(data) for data in sources_ws]\n",
        "lengths_ch = [len(data) for data in sources_ch]\n",
        "max_l_ws = max(lengths_ws)\n",
        "min_l_ws = min(lengths_ws)\n",
        "max_l_ch = max(lengths_ch)\n",
        "min_l_ch = min(lengths_ch)\n",
        "print('Максимальная длина разбинения по пробелам: ', max_l_ws)\n",
        "print('Минимальная длина разбинения по пробелам: ', min_l_ws)\n",
        "print('Максимальная длина разбинения по символам: ', max_l_ch)\n",
        "print('Минимальная длина разбинения по символам: ', min_l_ch)"
      ],
      "execution_count": 4,
      "outputs": [
        {
          "output_type": "stream",
          "text": [
            "Максимальная длина разбинения по пробелам:  289\n",
            "Минимальная длина разбинения по пробелам:  1\n",
            "Максимальная длина разбинения по символам:  1023\n",
            "Минимальная длина разбинения по символам:  7\n"
          ],
          "name": "stdout"
        }
      ]
    },
    {
      "metadata": {
        "id": "2XQa9e4sEFDD",
        "colab_type": "code",
        "colab": {}
      },
      "cell_type": "code",
      "source": [
        "PAD_SYMBOL = ord(' ')\n",
        "flat_sources_ch = [ch for source in sources_ch for ch in source]\n",
        "flat_sources_ch.append(PAD_SYMBOL)\n",
        "unique_ch = set(flat_sources_ch)\n",
        "ch2index = {ch: i for (i, ch) in enumerate(unique_ch)}\n",
        "index2ch = {i: ch for (i, ch) in enumerate(unique_ch)}"
      ],
      "execution_count": 0,
      "outputs": []
    },
    {
      "metadata": {
        "id": "VEoGSvOQEFDG",
        "colab_type": "code",
        "colab": {}
      },
      "cell_type": "code",
      "source": [
        "a = [ch for source in sources_ch for ch in source]\n",
        "ch_encoder = OneHotEncoder()\n",
        "ch_one_hot = ch_encoder.fit_transform(np.reshape(a, (-1, 1)))"
      ],
      "execution_count": 0,
      "outputs": []
    },
    {
      "metadata": {
        "id": "-ENIZAiiEFDJ",
        "colab_type": "code",
        "colab": {}
      },
      "cell_type": "code",
      "source": [
        "ch_one_hot_sources = []\n",
        "end_index = 0\n",
        "for l in lengths_ch:\n",
        "    ch_one_hot_sources.append(ch_one_hot[end_index:end_index+l])\n",
        "    end_index += l"
      ],
      "execution_count": 0,
      "outputs": []
    },
    {
      "metadata": {
        "id": "K_YMCCGoEFDM",
        "colab_type": "code",
        "colab": {}
      },
      "cell_type": "code",
      "source": [
        "def get_batch(x, batch_size):\n",
        "    x_batch = np.array([seq.toarray() for seq in x[:batch_size]])\n",
        "    seq_lengths = [seq.shape[0] for seq in x_batch]\n",
        "    return x_batch, seq_lengths\n",
        "\n",
        "def next_batch(x, size):\n",
        "    idx = np.arange(0 , len(x))\n",
        "    np.random.shuffle(idx)\n",
        "    idx = idx[:size]\n",
        "    x_batch = np.array([x[i].toarray() for i in idx])\n",
        "    seq_lengths = [seq.shape[0] for seq in x_batch]\n",
        "    return x_batch, seq_lengths\n",
        "\n",
        "def add_padding(batch, pad_size):\n",
        "    for i in range(len(batch)):\n",
        "        batch[i] = np.pad(batch[i], [(0, pad_size - len(batch[i])), (0,0)],\n",
        "                          mode='constant', constant_values=0)\n",
        "    return np.reshape(np.vstack(batch), (-1, batch[0].shape[0], batch[0].shape[1]))"
      ],
      "execution_count": 0,
      "outputs": []
    },
    {
      "metadata": {
        "id": "BRFJISfPEFDP",
        "colab_type": "code",
        "colab": {}
      },
      "cell_type": "code",
      "source": [
        "tf.reset_default_graph()\n",
        "\n",
        "ENCODER_LAYERS = [256, 256]\n",
        "DECODER_LAYERS = [256]\n",
        "N_LATENT = 256\n",
        "VEC_DIM = len(unique_ch)\n",
        "\n",
        "X = tf.placeholder(tf.float32, [None, None, VEC_DIM])\n",
        "Y = tf.placeholder(tf.float32, [None, None, VEC_DIM])\n",
        "seq_length = tf.placeholder(tf.int32, [None])\n",
        "\n",
        "with tf.variable_scope('encoder'):\n",
        "    encoder_layers = [tf.nn.rnn_cell.GRUCell(size) for size in ENCODER_LAYERS]\n",
        "    encoder_layer_cell = tf.contrib.rnn.MultiRNNCell(encoder_layers)\n",
        "    _, encoder_state = tf.nn.dynamic_rnn(cell=encoder_layer_cell,\n",
        "                                         inputs=X,\n",
        "                                         dtype=tf.float32,\n",
        "                                         sequence_length = seq_length)\n",
        "\n",
        "\n",
        "with tf.variable_scope('latent_layer'):\n",
        "    mean = tf.contrib.layers.fully_connected(encoder_state, N_LATENT, activation_fn=None)\n",
        "    std_dev = 0.5 * tf.contrib.layers.fully_connected(encoder_state, N_LATENT, activation_fn=None)\n",
        "    epsilon = tf.random_normal(shape=[1, 4, 3], dtype=tf.float32)\n",
        "#     epsilon = tf.reshape(epsilon, (1, N_LATENT))\n",
        "#     epsilon = tf.random_normal(tf.stack([tf.shape(encoder_state)[0], N_LATENT]))\n",
        "#     t = tf.multiply(epsilon, tf.exp(std_dev))\n",
        "#     z  = mean + tf.multiply(epsilon, tf.exp(std_dev))\n",
        "    z = mean + std_dev\n",
        "    \n",
        "with tf.variable_scope('decoder'):\n",
        "    decoder_input_pad = tf.zeros((tf.shape(X)[0], tf.shape(X)[1]-1, ENCODER_LAYERS[-1]))\n",
        "    decoder_input = tf.concat([tf.reshape(z[-1], (-1, 1, ENCODER_LAYERS[-1])), decoder_input_pad], axis=1)\n",
        "    decoder_layers = [tf.nn.rnn_cell.GRUCell(size) for size in DECODER_LAYERS]\n",
        "    decoder_layer_cell = tf.contrib.rnn.MultiRNNCell(decoder_layers)\n",
        "    decoder_out, decoder_state = tf.nn.dynamic_rnn(cell=decoder_layer_cell,\n",
        "                                                   inputs=decoder_input,\n",
        "                                                   dtype=tf.float32,\n",
        "                                                   sequence_length = seq_length)\n",
        "\n",
        "with tf.variable_scope('fc'):\n",
        "    stacked_rnn_outputs = tf.reshape(decoder_out, (-1, DECODER_LAYERS[-1]))\n",
        "    fc= tf.contrib.layers.fully_connected(stacked_rnn_outputs, VEC_DIM, activation_fn=None)\n",
        "    logit = tf.reshape(fc, [-1, tf.shape(X)[1], VEC_DIM])\n",
        "    \n",
        "    target = tf.argmax(Y, axis=2)\n",
        "    target_weights = tf.cast(tf.sequence_mask(seq_length, tf.reduce_max(seq_length)), tf.float32)\n",
        "#     loss = tf.sqrt(tf.reduce_mean(tf.square(tf.subtract(Y, logit))))\n",
        "    target_loss = tf.contrib.seq2seq.sequence_loss(logit, target, target_weights)\n",
        "#     kl_loss = - 0.5 * K.sum(1 + z_log_var - K.square(z_mean) - K.exp(z_log_var), axis=-1)\n",
        "#     latent_loss = -0.5 * tf.reduce_sum(1.0 + 2.0 * sd - tf.square(mn) - tf.exp(2.0 * sd), 1)\n",
        "    latent_loss = - 0.5 * tf.reduce_sum(1 + std_dev - tf.square(mean) - tf.exp(std_dev), axis=-1)\n",
        "    loss = tf.reduce_mean(target_loss + latent_loss)"
      ],
      "execution_count": 0,
      "outputs": []
    },
    {
      "metadata": {
        "id": "YDYTSUCCEFDU",
        "colab_type": "code",
        "colab": {
          "base_uri": "https://localhost:8080/",
          "height": 161
        },
        "outputId": "a25fcf2d-65ac-4606-f2c5-7e7117ce3dac"
      },
      "cell_type": "code",
      "source": [
        "BATCH_SIZE = 1\n",
        "\n",
        "init = tf.global_variables_initializer()\n",
        "sess = tf.Session()\n",
        "\n",
        "sess.run(init)\n",
        "\n",
        "x_batch, batch_seq_len = next_batch(ch_one_hot_sources, BATCH_SIZE)\n",
        "print(batch_seq_len)\n",
        "print(x_batch.shape)\n",
        "# print(x_batch[:,:10,:].shape)\n",
        "# print(x_batch[1].shape)\n",
        "print('---=-=')\n",
        "x_batch = add_padding(x_batch, max(batch_seq_len))\n",
        "print(x_batch.shape)\n",
        "x_batch = x_batch[:,:10,:]\n",
        "batch_seq_len = [10]\n",
        "print(x_batch.shape)\n",
        "# train_x = np.array(ch_one_hot_sources[:2])\n",
        "# dim = train_x[0].toarray()\n",
        "# print(dim)\n",
        "# print(train_x)\n",
        "print('---')\n",
        "print(sess.run(encoder_state, feed_dict={X: x_batch, seq_length: batch_seq_len})[-1].shape)\n",
        "print(sess.run(epsilon, feed_dict={X: x_batch, seq_length: batch_seq_len})[-1].shape)\n",
        "# print(sess.run(decoder_input_pad, feed_dict={X: x_batch, seq_length: batch_seq_len}))\n",
        "# print(sess.run(decoder_input, feed_dict={X: x_batch, seq_length: batch_seq_len}).shape)\n",
        "# print(sess.run(decoder_out, feed_dict={X: x_batch, seq_length: batch_seq_len}).shape)\n",
        "# print(sess.run(logit, feed_dict={X: x_batch, seq_length: batch_seq_len}).shape)\n",
        "# print(sess.run(target, feed_dict={Y: x_batch, seq_length: batch_seq_len}))\n",
        "# print(sess.run(target_weights, feed_dict={Y: x_batch, seq_length: batch_seq_len}))\n",
        "# print(sess.run(target_loss, feed_dict={X: x_batch, Y: x_batch, seq_length: batch_seq_len}))\n",
        "# print(sess.run(latent_loss, feed_dict={X: x_batch, Y: x_batch, seq_length: batch_seq_len}))\n",
        "# print(sess.run(loss, feed_dict={X: x_batch, Y: x_batch, seq_length: batch_seq_len}))\n",
        "\n",
        "# print(sess.run(t, feed_dict={X: x_batch, seq_length: batch_seq_len}))\n"
      ],
      "execution_count": 142,
      "outputs": [
        {
          "output_type": "stream",
          "text": [
            "[253]\n",
            "(1, 253, 113)\n",
            "---=-=\n",
            "(1, 253, 113)\n",
            "(1, 10, 113)\n",
            "---\n",
            "(1, 256)\n",
            "(4, 3)\n"
          ],
          "name": "stdout"
        }
      ]
    },
    {
      "metadata": {
        "id": "VlZa_23kEFDc",
        "colab_type": "code",
        "colab": {
          "base_uri": "https://localhost:8080/",
          "height": 53
        },
        "outputId": "b6afcc36-ba3a-4f23-cc47-2688f95c9874"
      },
      "cell_type": "code",
      "source": [
        "train_size = 0.99\n",
        "X_train = ch_one_hot_sources[:int(train_size*len(ch_one_hot_sources))]\n",
        "X_test = np.array([seq.toarray() for seq in ch_one_hot_sources[int(train_size*len(ch_one_hot_sources)):]])\n",
        "print('Train set size: ', len(X_train))\n",
        "print('Test set size: ', len(X_test))\n",
        "test_seq_length = [seq.shape[0] for seq in X_test]\n",
        "max_test_seq_length = max(test_seq_length)\n",
        "X_test = add_padding(X_test, max_test_seq_length)"
      ],
      "execution_count": 40,
      "outputs": [
        {
          "output_type": "stream",
          "text": [
            "Train set size:  21721\n",
            "Test set size:  220\n"
          ],
          "name": "stdout"
        }
      ]
    },
    {
      "metadata": {
        "id": "Psxc4s0xEFDh",
        "colab_type": "code",
        "colab": {
          "base_uri": "https://localhost:8080/",
          "height": 1108
        },
        "outputId": "b45dfb85-31e5-48eb-c8ba-f5cbc247c904"
      },
      "cell_type": "code",
      "source": [
        "LEARNING_RATE = 0.01\n",
        "BATCH_SIZE = 50\n",
        "EPOCHES = 10\n",
        "N_BATHCES = int(len(X_train)/BATCH_SIZE)\n",
        "print('Batches: ', N_BATHCES)\n",
        "\n",
        "optimizer = tf.train.AdamOptimizer(LEARNING_RATE)\n",
        "training_op = optimizer.minimize(loss)\n",
        "\n",
        "init = tf.global_variables_initializer()\n",
        "sess = tf.Session()\n",
        "\n",
        "sess.run(init)\n",
        "\n",
        "for epoch in range(EPOCHES):\n",
        "    print(X_test.shape)\n",
        "    test_feed_dict = {\n",
        "        X: X_test,\n",
        "        Y: X_test,\n",
        "        seq_length: test_seq_length\n",
        "    }\n",
        "    test_loss = sess.run(loss, feed_dict=test_feed_dict)\n",
        "    print('Epoch %u, test loss: %f' %(epoch, test_loss))\n",
        "    for i in range(N_BATHCES):\n",
        "        x_batch, batch_seq_len = next_batch(X_train, BATCH_SIZE)\n",
        "#         x_batch = x_batch[:, :10, :]\n",
        "#         batch_seq_len = []\n",
        "#         print(x_batch)\n",
        "        x_batch = add_padding(x_batch, max(batch_seq_len))\n",
        "        x_batch = x_batch[:, :10, :]\n",
        "        batch_seq_len = [10] * x_batch.shape[0]\n",
        "        feed_dict = {\n",
        "            X: x_batch,\n",
        "            Y: x_batch,\n",
        "            seq_length: batch_seq_len\n",
        "        }\n",
        "        sess.run(training_op, feed_dict=feed_dict)\n",
        "        if i % 10 == 0:\n",
        "            train_loss = sess.run(loss, feed_dict=feed_dict)\n",
        "            print(train_loss)\n",
        "\n",
        "max_test_seq_length"
      ],
      "execution_count": 88,
      "outputs": [
        {
          "output_type": "stream",
          "text": [
            "Batches:  434\n",
            "(220, 1019, 113)\n",
            "Epoch 0, test loss: 4.727361\n",
            "4.51234\n",
            "2.0417645\n",
            "1.9684969\n",
            "2.031752\n",
            "1.2441211\n",
            "1.7821728\n",
            "1.8279592\n",
            "1.5516136\n",
            "1.70524\n",
            "1.578966\n",
            "1.49376\n",
            "1.5356264\n",
            "1.2934256\n",
            "1.3326514\n",
            "1.84853\n",
            "1.4050274\n",
            "1.2200036\n",
            "1.581924\n",
            "1.3017532\n",
            "0.91888195\n",
            "1.167941\n",
            "0.98204064\n",
            "0.9825882\n",
            "0.9957369\n",
            "1.1812379\n",
            "1.0036632\n",
            "1.0388691\n",
            "1.0996609\n",
            "1.0321099\n",
            "1.1118945\n",
            "1.0904853\n",
            "1.3949455\n",
            "1.0252682\n"
          ],
          "name": "stdout"
        },
        {
          "output_type": "error",
          "ename": "KeyboardInterrupt",
          "evalue": "ignored",
          "traceback": [
            "\u001b[0;31m---------------------------------------------------------------------------\u001b[0m",
            "\u001b[0;31mKeyboardInterrupt\u001b[0m                         Traceback (most recent call last)",
            "\u001b[0;32m<ipython-input-88-84e38dbd05d7>\u001b[0m in \u001b[0;36m<module>\u001b[0;34m()\u001b[0m\n\u001b[1;32m     27\u001b[0m \u001b[0;31m#         batch_seq_len = []\u001b[0m\u001b[0;34m\u001b[0m\u001b[0;34m\u001b[0m\u001b[0m\n\u001b[1;32m     28\u001b[0m \u001b[0;31m#         print(x_batch)\u001b[0m\u001b[0;34m\u001b[0m\u001b[0;34m\u001b[0m\u001b[0m\n\u001b[0;32m---> 29\u001b[0;31m         \u001b[0mx_batch\u001b[0m \u001b[0;34m=\u001b[0m \u001b[0madd_padding\u001b[0m\u001b[0;34m(\u001b[0m\u001b[0mx_batch\u001b[0m\u001b[0;34m,\u001b[0m \u001b[0mmax\u001b[0m\u001b[0;34m(\u001b[0m\u001b[0mbatch_seq_len\u001b[0m\u001b[0;34m)\u001b[0m\u001b[0;34m)\u001b[0m\u001b[0;34m\u001b[0m\u001b[0m\n\u001b[0m\u001b[1;32m     30\u001b[0m         \u001b[0mx_batch\u001b[0m \u001b[0;34m=\u001b[0m \u001b[0mx_batch\u001b[0m\u001b[0;34m[\u001b[0m\u001b[0;34m:\u001b[0m\u001b[0;34m,\u001b[0m \u001b[0;34m:\u001b[0m\u001b[0;36m10\u001b[0m\u001b[0;34m,\u001b[0m \u001b[0;34m:\u001b[0m\u001b[0;34m]\u001b[0m\u001b[0;34m\u001b[0m\u001b[0m\n\u001b[1;32m     31\u001b[0m         \u001b[0mbatch_seq_len\u001b[0m \u001b[0;34m=\u001b[0m \u001b[0;34m[\u001b[0m\u001b[0;36m10\u001b[0m\u001b[0;34m]\u001b[0m \u001b[0;34m*\u001b[0m \u001b[0mx_batch\u001b[0m\u001b[0;34m.\u001b[0m\u001b[0mshape\u001b[0m\u001b[0;34m[\u001b[0m\u001b[0;36m0\u001b[0m\u001b[0;34m]\u001b[0m\u001b[0;34m\u001b[0m\u001b[0m\n",
            "\u001b[0;32m<ipython-input-8-a9e1fb3a556b>\u001b[0m in \u001b[0;36madd_padding\u001b[0;34m(batch, pad_size)\u001b[0m\n\u001b[1;32m     16\u001b[0m         batch[i] = np.pad(batch[i], [(0, pad_size - len(batch[i])), (0,0)],\n\u001b[1;32m     17\u001b[0m                           mode='constant', constant_values=0)\n\u001b[0;32m---> 18\u001b[0;31m     \u001b[0;32mreturn\u001b[0m \u001b[0mnp\u001b[0m\u001b[0;34m.\u001b[0m\u001b[0mreshape\u001b[0m\u001b[0;34m(\u001b[0m\u001b[0mnp\u001b[0m\u001b[0;34m.\u001b[0m\u001b[0mvstack\u001b[0m\u001b[0;34m(\u001b[0m\u001b[0mbatch\u001b[0m\u001b[0;34m)\u001b[0m\u001b[0;34m,\u001b[0m \u001b[0;34m(\u001b[0m\u001b[0;34m-\u001b[0m\u001b[0;36m1\u001b[0m\u001b[0;34m,\u001b[0m \u001b[0mbatch\u001b[0m\u001b[0;34m[\u001b[0m\u001b[0;36m0\u001b[0m\u001b[0;34m]\u001b[0m\u001b[0;34m.\u001b[0m\u001b[0mshape\u001b[0m\u001b[0;34m[\u001b[0m\u001b[0;36m0\u001b[0m\u001b[0;34m]\u001b[0m\u001b[0;34m,\u001b[0m \u001b[0mbatch\u001b[0m\u001b[0;34m[\u001b[0m\u001b[0;36m0\u001b[0m\u001b[0;34m]\u001b[0m\u001b[0;34m.\u001b[0m\u001b[0mshape\u001b[0m\u001b[0;34m[\u001b[0m\u001b[0;36m1\u001b[0m\u001b[0;34m]\u001b[0m\u001b[0;34m)\u001b[0m\u001b[0;34m)\u001b[0m\u001b[0;34m\u001b[0m\u001b[0m\n\u001b[0m",
            "\u001b[0;32m/usr/local/lib/python3.6/dist-packages/numpy/core/shape_base.py\u001b[0m in \u001b[0;36mvstack\u001b[0;34m(tup)\u001b[0m\n\u001b[1;32m    232\u001b[0m \u001b[0;34m\u001b[0m\u001b[0m\n\u001b[1;32m    233\u001b[0m     \"\"\"\n\u001b[0;32m--> 234\u001b[0;31m     \u001b[0;32mreturn\u001b[0m \u001b[0m_nx\u001b[0m\u001b[0;34m.\u001b[0m\u001b[0mconcatenate\u001b[0m\u001b[0;34m(\u001b[0m\u001b[0;34m[\u001b[0m\u001b[0matleast_2d\u001b[0m\u001b[0;34m(\u001b[0m\u001b[0m_m\u001b[0m\u001b[0;34m)\u001b[0m \u001b[0;32mfor\u001b[0m \u001b[0m_m\u001b[0m \u001b[0;32min\u001b[0m \u001b[0mtup\u001b[0m\u001b[0;34m]\u001b[0m\u001b[0;34m,\u001b[0m \u001b[0;36m0\u001b[0m\u001b[0;34m)\u001b[0m\u001b[0;34m\u001b[0m\u001b[0m\n\u001b[0m\u001b[1;32m    235\u001b[0m \u001b[0;34m\u001b[0m\u001b[0m\n\u001b[1;32m    236\u001b[0m \u001b[0;32mdef\u001b[0m \u001b[0mhstack\u001b[0m\u001b[0;34m(\u001b[0m\u001b[0mtup\u001b[0m\u001b[0;34m)\u001b[0m\u001b[0;34m:\u001b[0m\u001b[0;34m\u001b[0m\u001b[0m\n",
            "\u001b[0;31mKeyboardInterrupt\u001b[0m: "
          ]
        }
      ]
    },
    {
      "metadata": {
        "id": "uKNdNVKkEFDn",
        "colab_type": "code",
        "colab": {}
      },
      "cell_type": "code",
      "source": [
        "x_batch"
      ],
      "execution_count": 0,
      "outputs": []
    }
  ]
}